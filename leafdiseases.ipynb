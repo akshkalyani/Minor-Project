{
  "nbformat": 4,
  "nbformat_minor": 0,
  "metadata": {
    "colab": {
      "provenance": [],
      "authorship_tag": "ABX9TyOHxwVDqe5+BAhyGO1iOJRY",
      "include_colab_link": true
    },
    "kernelspec": {
      "name": "python3",
      "display_name": "Python 3"
    },
    "language_info": {
      "name": "python"
    }
  },
  "cells": [
    {
      "cell_type": "markdown",
      "metadata": {
        "id": "view-in-github",
        "colab_type": "text"
      },
      "source": [
        "<a href=\"https://colab.research.google.com/github/akshkalyani/Minor-Project/blob/aksh_updates/leafdiseases.ipynb\" target=\"_parent\"><img src=\"https://colab.research.google.com/assets/colab-badge.svg\" alt=\"Open In Colab\"/></a>"
      ]
    },
    {
      "cell_type": "markdown",
      "source": [
        "# Import necessary files"
      ],
      "metadata": {
        "id": "6p0nLc26DtWq"
      }
    },
    {
      "cell_type": "code",
      "execution_count": null,
      "metadata": {
        "id": "RGn6x4seDHNK"
      },
      "outputs": [],
      "source": [
        "# Reading Data\n",
        "import pandas as pd\n",
        "import numpy as np\n",
        "import os\n",
        "import cv2\n",
        "import matplotlib.pyplot as plt\n",
        "\n",
        "# Data Preprocessing\n",
        "from sklearn.utils import shuffle\n",
        "from sklearn.model_selection import train_test_split\n",
        "from keras.utils import to_categorical\n",
        "\n",
        "# Building CNN Model & Pretraining Model\n",
        "import tensorflow as tf\n",
        "import tensorflow.keras as k\n",
        "from tensorflow.keras.layers import Dense, Conv2D, MaxPool2D, AveragePooling2D, Flatten, Dropout\n",
        "\n",
        "# Downlaod Model\n",
        "import pickle\n",
        "/opt/conda/lib/python3.10/site-packages/scipy/__init__.py:146: UserWarning: A NumPy version >=1.16.5 and <1.23.0 is required for this version of SciPy (detected version 1.23.5\n",
        "  warnings.warn(f\"A NumPy version >={np_minversion} and <{np_maxversion}\""
      ]
    },
    {
      "cell_type": "markdown",
      "source": [
        "# Reading Data Image"
      ],
      "metadata": {
        "id": "2Nrv1NUYDj_C"
      }
    },
    {
      "cell_type": "code",
      "source": [
        "path_folder = \"/kaggle/input/new-plant-diseases-dataset/New Plant Diseases Dataset(Augmented)/New Plant Diseases Dataset(Augmented)/train\"\n",
        "class_name = os.listdir(path_folder)\n",
        "class_name.sort()\n",
        "class_name = class_name[:4] + class_name[20:23]\n",
        "print(class_name)\n",
        "image_data = []\n",
        "label_data = []\n",
        "count = 0\n",
        "for folder in class_name:\n",
        "    images = os.listdir(path_folder + \"/\" + folder)\n",
        "    print(\"Loading Folder -- {} \" .format(folder), \"The Count of Classes ==> \",count)\n",
        "    for img in images:\n",
        "        image = cv2.imread(path_folder + \"/\" + folder + \"/\" + img)\n",
        "        image = cv2.resize(image, (100, 100))\n",
        "\n",
        "        image_data.append(image)\n",
        "        label_data.append(count)\n",
        "    count += 1\n",
        "print(\"---- Done ----------- \")"
      ],
      "metadata": {
        "id": "nT7AskbTDrXD"
      },
      "execution_count": null,
      "outputs": []
    },
    {
      "cell_type": "markdown",
      "source": [
        "# Preprocessing and data visualisation"
      ],
      "metadata": {
        "id": "SxeIaEBcD9OJ"
      }
    },
    {
      "cell_type": "code",
      "source": [
        "data = np.array(image_data)\n",
        "data = data.astype(\"float32\")\n",
        "data = data/255.0\n",
        "\n",
        "label = np.array(label_data)"
      ],
      "metadata": {
        "id": "tOB-Iy-aEIod"
      },
      "execution_count": null,
      "outputs": []
    },
    {
      "cell_type": "code",
      "source": [
        "print(data.shape)"
      ],
      "metadata": {
        "id": "KZmiM_OHEJeY"
      },
      "execution_count": null,
      "outputs": []
    },
    {
      "cell_type": "markdown",
      "source": [
        "# Transform Label To One Hot Encoder"
      ],
      "metadata": {
        "id": "avLc5qP6EykU"
      }
    },
    {
      "cell_type": "code",
      "source": [
        "label_num = to_categorical(label, len(class_name))\n",
        "label_num[100]"
      ],
      "metadata": {
        "id": "xTMCytGUE9lS"
      },
      "execution_count": null,
      "outputs": []
    },
    {
      "cell_type": "markdown",
      "source": [
        "#Shuffle Data"
      ],
      "metadata": {
        "id": "de1gDkvQE_2l"
      }
    },
    {
      "cell_type": "code",
      "source": [
        "x_img, y_img = shuffle(data, label_num)\n",
        "x_train, x_test, y_train, y_test = train_test_split(x_img, y_img, train_size=0.8)"
      ],
      "metadata": {
        "id": "UT29zDftFHuS"
      },
      "execution_count": null,
      "outputs": []
    },
    {
      "cell_type": "code",
      "source": [
        "x_train.shape, y_train.shape, x_test.shape, y_test.shape"
      ],
      "metadata": {
        "id": "C2CLh-TUFIvk"
      },
      "execution_count": null,
      "outputs": []
    }
  ]
}